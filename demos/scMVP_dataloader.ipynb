{
 "cells": [
  {
   "cell_type": "code",
   "execution_count": 3,
   "metadata": {
    "collapsed": true,
    "pycharm": {
     "is_executing": false
    }
   },
   "outputs": [],
   "source": [
    "import os\n",
    "import numpy as np\n",
    "import pandas as pd\n",
    "import matplotlib as mpl\n",
    "import matplotlib.pyplot as plt\n",
    "mpl.use('WXAgg')\n",
    "import random\n",
    "from scvi.dataset import  scMVP_dataloader"
   ]
  },
  {
   "cell_type": "markdown",
   "metadata": {
    "collapsed": false,
    "pycharm": {
     "name": "#%% md\n"
    }
   },
   "source": [
    "## data loader for user's identified data"
   ]
  },
  {
   "cell_type": "code",
   "execution_count": 4,
   "metadata": {
    "collapsed": false,
    "pycharm": {
     "name": "#%%\n",
     "is_executing": false
    }
   },
   "outputs": [
    {
     "name": "stderr",
     "output_type": "stream",
     "text": [
      "[2020-09-09 23:19:59,436] INFO - scvi.dataset.scMVP_dataloader | Preprocessing dataset\n",
      "[2020-09-09 23:20:31,661] INFO - scvi.dataset.scMVP_dataloader | Finished preprocessing dataset\n",
      "[2020-09-09 23:20:35,558] INFO - scvi.dataset.dataset | Remapping labels to [0,N]\n",
      "[2020-09-09 23:20:35,694] INFO - scvi.dataset.dataset | Remapping batch_indices to [0,N]\n",
      "[2020-09-09 23:20:49,802] INFO - scvi.dataset.dataset | Computing the library size for the new data\n",
      "[2020-09-09 23:20:50,397] INFO - scvi.dataset.dataset | Downsampled from 5081 to 5081 cells\n"
     ]
    },
    {
     "name": "stdout",
     "output_type": "stream",
     "text": [
      "ok!",
      "\n"
     ]
    }
   ],
   "source": [
    "save_path = \"E:/data/qiliu/single-cell program/ATAC/snare data/\"\n",
    "data_name_dict = {\n",
    "        \"GSE126074_P0_BrainCortex_SNAREseq_cDNA.barcodes.tsv\":\"gene_barcodes\",\\\n",
    "        \"GSE126074_P0_BrainCortex_SNAREseq_cDNA.counts.mtx\": \"gene_expression\",\\\n",
    "        \"GSE126074_P0_BrainCortex_SNAREseq_cDNA.genes.tsv\": \"gene_names\",\\\n",
    "        \"GSE126074_P0_BrainCortex_SNAREseq_chromatin.barcodes.tsv\":\"atac_barcodes\",\\\n",
    "        \"GSE126074_P0_BrainCortex_SNAREseq_chromatin.counts.mtx\":\"atac_expression\",\\\n",
    "        \"GSE126074_P0_BrainCortex_SNAREseq_chromatin.peaks.tsv\":\"atac_names\"}\n",
    "\n",
    "dataset = scMVP_dataloader(data_name_dict,save_path = save_path)\n",
    "print(\"ok!\")"
   ]
  }
 ],
 "metadata": {
  "kernelspec": {
   "display_name": "Python 3",
   "language": "python",
   "name": "python3"
  },
  "language_info": {
   "codemirror_mode": {
    "name": "ipython",
    "version": 2
   },
   "file_extension": ".py",
   "mimetype": "text/x-python",
   "name": "python",
   "nbconvert_exporter": "python",
   "pygments_lexer": "ipython2",
   "version": "2.7.6"
  },
  "pycharm": {
   "stem_cell": {
    "cell_type": "raw",
    "source": [],
    "metadata": {
     "collapsed": false
    }
   }
  }
 },
 "nbformat": 4,
 "nbformat_minor": 0
}
